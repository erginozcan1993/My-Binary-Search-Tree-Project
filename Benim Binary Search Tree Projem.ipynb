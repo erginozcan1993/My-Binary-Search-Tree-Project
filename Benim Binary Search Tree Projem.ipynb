{
 "cells": [
  {
   "cell_type": "markdown",
   "metadata": {},
   "source": [
    "## Benim Binary Search Tree Projem\n",
    "\n",
    "Bu projede Binary Search Tree'de bildiklerimi paylaştım."
   ]
  },
  {
   "cell_type": "markdown",
   "metadata": {},
   "source": [
    "[7, 5, 1, 8, 3, 6, 0, 9, 4, 2] dizisinin Binary-Search-Tree aşamalarını yazınız.\n",
    "\n",
    "Öncelikle en ortasından başlıyorum. Root olarak 5'i alacağım. Çünkü 10'lu sayı dilimlerinde ortalarda yer alıyor."
   ]
  },
  {
   "cell_type": "markdown",
   "metadata": {},
   "source": [
    "*Yedi beşten büyük.\n",
    "\n",
    "*Bir beşten küçük\n",
    "\n",
    "*Sekiz beş ve yediden büyük.\n",
    "\n",
    "*Üç beşten küçük ama birden büyük.\n",
    "\n",
    "*Altı beşten büyük ama yediden küçük.\n",
    "\n",
    "*Sıfır beşten ve birden küçük.\n",
    "\n",
    "*Dokuz beşten, yediden ve sekizden büyük.\n",
    "\n",
    "*Dört beşten, birden ve üçten büyük.\n",
    "\n",
    "*İki beşten küçük ama birden büyük."
   ]
  },
  {
   "cell_type": "code",
   "execution_count": null,
   "metadata": {},
   "outputs": [],
   "source": []
  }
 ],
 "metadata": {
  "kernelspec": {
   "display_name": "Python 3",
   "language": "python",
   "name": "python3"
  },
  "language_info": {
   "codemirror_mode": {
    "name": "ipython",
    "version": 3
   },
   "file_extension": ".py",
   "mimetype": "text/x-python",
   "name": "python",
   "nbconvert_exporter": "python",
   "pygments_lexer": "ipython3",
   "version": "3.8.5"
  }
 },
 "nbformat": 4,
 "nbformat_minor": 4
}
